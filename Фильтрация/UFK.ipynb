{
  "cells": [
    {
      "cell_type": "markdown",
      "metadata": {
        "id": "IX91TDRwlk9D"
      },
      "source": [
        "## Unscented Kalman Filter  \n",
        "-----"
      ]
    },
    {
      "cell_type": "markdown",
      "metadata": {
        "id": "98raKoY9lk9I"
      },
      "source": [
        "Найти положение робота в 1D пространстве, при этом используем данные с камеры, измеряя высоту отдаленных\n",
        "ориентиров относительно горизонта.<br />\n",
        "\n",
        "\n",
        "\n",
        "<img src=\"https://likerobotics.ru/images/task2.jpg\" width=\"400\"/>"
      ]
    },
    {
      "cell_type": "markdown",
      "metadata": {
        "id": "znffE16-lk9I"
      },
      "source": [
        "### Исходные данные\n",
        "Состояние\n",
        "$$\n",
        "\\mathbf{x}=\\left[\\begin{array}{c}\n",
        "p \\\\\n",
        "\\frac{d p}{d t}=\\dot{p}\n",
        "\\end{array}\\right]\n",
        "$$\n",
        "вход управления  $\\quad \\mathbf{u}=a=\\frac{d^{2} p}{d t^{2}}$\n",
        "<br />"
      ]
    },
    {
      "cell_type": "markdown",
      "metadata": {
        "id": "XwdFRqnRlk9J"
      },
      "source": [
        "Модель движения\n",
        "$$\n",
        "\\begin{aligned}\n",
        "\\mathbf{x}_{k} &=\\mathbf{f}\\left(\\mathbf{x}_{k-1}, \\mathbf{u}_{k-1}, \\mathbf{w}_{k-1}\\right) \\\\\n",
        "&=\\left[\\begin{array}{cc}\n",
        "1 & \\Delta t \\\\\n",
        "0 & 1\n",
        "\\end{array}\\right] \\mathbf{x}_{k-1}+\\left[\\begin{array}{c}\n",
        "0 \\\\\n",
        "\\Delta t\n",
        "\\end{array}\\right] \\mathbf{u}_{k-1}+\\mathbf{w}_{k-1} \\\\\n",
        "v_{k} & \\sim \\mathscr{N}(0,0.01) \\quad \\mathbf{w}_{k} \\sim \\mathscr{N}\\left(\\mathbf{0},(0.1) \\mathbf{1}_{2 \\times 2}\\right)\n",
        "\\end{aligned}\n",
        "$$"
      ]
    },
    {
      "cell_type": "markdown",
      "metadata": {
        "id": "QEhoQEDulk9K"
      },
      "source": [
        "Модель измерения\n",
        "$$\n",
        "\\begin{aligned}\n",
        "y_{k} &=\\phi_{k}=h\\left(p_{k}, v_{k}\\right) \\\\\n",
        "&=\\tan ^{-1}\\left(\\frac{S}{D-p_{k}}\\right)+v_{k}\n",
        "\\end{aligned}\n",
        "$$"
      ]
    },
    {
      "cell_type": "markdown",
      "metadata": {
        "id": "1RWETSSulk9K"
      },
      "source": [
        "Необходимо найти положение объекта в момент\n",
        "времени 𝒌 + 𝟏, при ∆𝒕 = 𝟎. 𝟓 сек\n",
        "\n",
        "$$\n",
        "\\begin{array}{cl}\n",
        "\\hat{\\mathbf{x}}_{0} \\sim \\mathscr{N}\\left(\\left[\\begin{array}{l}\n",
        "0 \\\\\n",
        "5\n",
        "\\end{array}\\right],\\right. & \\left.\\left[\\begin{array}{cc}\n",
        "0.01 & 0 \\\\\n",
        "0 & 1\n",
        "\\end{array}\\right]\\right) \\\\\n",
        "u_{0}=-2\\left[\\mathrm{~m} / \\mathrm{s}^{2}\\right] & y_{1}=\\pi / 6[\\mathrm{rad}] \\\\\n",
        "S=20[\\mathrm{~m}] & D=40[\\mathrm{~m}]\n",
        "\\end{array}\n",
        "$$"
      ]
    },
    {
      "cell_type": "markdown",
      "metadata": {
        "id": "vhytLzhClk9K"
      },
      "source": [
        "Подключаем необходимые библиотеки"
      ]
    },
    {
      "cell_type": "code",
      "execution_count": null,
      "metadata": {
        "id": "xWbJc22wlk9L"
      },
      "outputs": [],
      "source": [
        "import numpy as np\n",
        "from numpy.linalg import inv, cholesky\n",
        "import matplotlib.pyplot as plt\n",
        "import math"
      ]
    },
    {
      "cell_type": "markdown",
      "metadata": {
        "id": "I3RnyfEmlk9M"
      },
      "source": [
        "Задаем исходные данные:\n"
      ]
    },
    {
      "cell_type": "code",
      "execution_count": null,
      "metadata": {
        "id": "SC6y2LM4lk9M"
      },
      "outputs": [],
      "source": [
        "x_0 = np.array([[0],[5]])\n",
        "P_0 = np.array([[0.01 , 0],\n",
        "                [0, 1]]) #ковариация в моментв ремени 0\n",
        "Q_0 = np.array([[0.1 , 0],\n",
        "                [0, 0.1]]) #ковариация модели движения в моментв ремени 0\n",
        "R_0 = 0.01 #ковариация модели измерения в моментв ремени 0\n",
        "u_0 = -2\n",
        "y_1 = np.pi/6\n",
        "S = 20\n",
        "D = 40\n",
        "dt = 0.5"
      ]
    },
    {
      "cell_type": "markdown",
      "metadata": {
        "id": "y6ipYnc_lk9N"
      },
      "source": [
        "### Начнем с предсказания\n",
        "Для этого нам понадобится наша модель движения."
      ]
    },
    {
      "cell_type": "markdown",
      "source": [],
      "metadata": {
        "id": "pmUCIrwzF2K2"
      }
    },
    {
      "cell_type": "code",
      "execution_count": null,
      "metadata": {
        "id": "JSnHhCpPlk9N"
      },
      "outputs": [],
      "source": [
        "\n",
        "def motion_iterate(dt, x_k, u_k):\n",
        "    \"\"\"\n",
        "    example inputs:\n",
        "    dt = 0.5\n",
        "    x_k = 0\n",
        "    u_k = -2\n",
        "    \"\"\"\n",
        "    # motion model\n",
        "    x_matrix = np.array([[1, dt], [0, 1]])\n",
        "    u_matrix = np.array([[0], [dt]])\n",
        "    x_k = x_matrix.dot(x_k) + u_matrix*u_k\n",
        "    return x_k"
      ]
    },
    {
      "cell_type": "code",
      "source": [
        "def measure_iterate(p_k, v_k, S, D):\n",
        "    return np.arctan(S / (D - p_k)) + v_k\n",
        "\n",
        "\n"
      ],
      "metadata": {
        "id": "--ddx1rHF3Bz"
      },
      "execution_count": null,
      "outputs": []
    },
    {
      "cell_type": "code",
      "source": [
        "2"
      ],
      "metadata": {
        "colab": {
          "base_uri": "https://localhost:8080/"
        },
        "id": "cjD3bwiQ6YLW",
        "outputId": "72bcbe43-4b12-4c88-dab1-7f70dee04ca0"
      },
      "execution_count": null,
      "outputs": [
        {
          "output_type": "execute_result",
          "data": {
            "text/plain": [
              "2"
            ]
          },
          "metadata": {},
          "execution_count": 232
        }
      ]
    },
    {
      "cell_type": "markdown",
      "metadata": {
        "id": "8Yr4BO8ylk9N"
      },
      "source": [
        "Вспомнинаем, для N мерного распределения нам необходимо взять N+1 сигма точек."
      ]
    },
    {
      "cell_type": "code",
      "execution_count": null,
      "metadata": {
        "id": "QfE2nmjwlk9N",
        "outputId": "40cde26b-d9df-4255-a81d-a3d55e76d784",
        "colab": {
          "base_uri": "https://localhost:8080/"
        }
      },
      "outputs": [
        {
          "output_type": "stream",
          "name": "stdout",
          "text": [
            "[[0.1 0. ]\n",
            " [0.  1. ]]\n",
            "[array([[0],\n",
            "       [5]]), array([[0.173205],\n",
            "       [5.      ]]), array([[0.      ],\n",
            "       [6.732051]]), array([[-0.173205],\n",
            "       [ 5.      ]]), array([[0.      ],\n",
            "       [3.267949]])]\n"
          ]
        }
      ],
      "source": [
        "#разложение Холецкого для ковариационной матрицы\n",
        "N = 2 # размерность распределения\n",
        "ka = 3 - N # каппа, значнеие для нормального распределения\n",
        "hol = cholesky(P_0)\n",
        "print(hol)\n",
        "#сигма точки нужно найти\n",
        "sigma_list = []\n",
        "sigma_list.append(x_0)\n",
        "### START CODE HERE ###\n",
        "for i in range(0, N):\n",
        "    singma = x_0 + np.array(np.sqrt(N + ka) * hol[:,i]).reshape(2,1)\n",
        "    sigma_list.append(singma)\n",
        "for i in range(0, N):\n",
        "    singma = x_0 - np.array(np.sqrt(N + ka) * hol[:,i]).reshape(2,1)\n",
        "    sigma_list.append(singma)\n",
        "\n",
        "### END CODE HERE ###\n",
        "print(sigma_list)"
      ]
    },
    {
      "cell_type": "code",
      "execution_count": null,
      "metadata": {
        "id": "d-W-EPi6lk9O",
        "outputId": "c6f0489a-bd91-4f7c-e01b-5b0f39b2524f",
        "colab": {
          "base_uri": "https://localhost:8080/"
        }
      },
      "outputs": [
        {
          "output_type": "stream",
          "name": "stdout",
          "text": [
            "[[0]\n",
            " [5]]\n",
            "[[0.173205]\n",
            " [5.      ]]\n",
            "[[0.      ]\n",
            " [6.732051]]\n",
            "[[-0.173205]\n",
            " [ 5.      ]]\n",
            "[[0.      ]\n",
            " [3.267949]]\n",
            "Predicted sigma points:  [[[2.5     ]\n",
            "  [4.      ]]\n",
            "\n",
            " [[2.673205]\n",
            "  [4.      ]]\n",
            "\n",
            " [[3.366025]\n",
            "  [5.732051]]\n",
            "\n",
            " [[2.326795]\n",
            "  [4.      ]]\n",
            "\n",
            " [[1.633975]\n",
            "  [2.267949]]]\n"
          ]
        }
      ],
      "source": [
        "# теперь пропускаем наши сигма точки через нелинейную функцию (модель движения)\n",
        "# чтобы получить сигма  точки для момента времени k\n",
        "sigma_predicted = np.zeros((len(sigma_list), 2, 1))\n",
        "for i, sigma in enumerate(sigma_list):\n",
        "    ### START CODE HERE ###\n",
        "    print(sigma)\n",
        "    news_sigma = motion_iterate(dt, sigma_list[i], -2)\n",
        "    sigma_predicted[i] = news_sigma\n",
        "    ### END CODE HERE ###\n",
        "\n",
        "print('Predicted sigma points: ', sigma_predicted)"
      ]
    },
    {
      "cell_type": "code",
      "execution_count": null,
      "metadata": {
        "id": "DxCdU6JPlk9P",
        "outputId": "90bb6331-faca-401f-a3b3-9b9c4e92ae17",
        "colab": {
          "base_uri": "https://localhost:8080/",
          "height": 696
        }
      },
      "outputs": [
        {
          "output_type": "display_data",
          "data": {
            "text/plain": [
              "<Figure size 800x800 with 1 Axes>"
            ],
            "image/png": "[encoded data removed]"
          },
          "metadata": {}
        }
      ],
      "source": [
        "plt.figure(figsize=(8, 8))\n",
        "mean_x = sigma_predicted[:,0].mean(axis=0)\n",
        "mean_y = sigma_predicted[:,1].mean(axis=0)\n",
        "plt.scatter(sigma_predicted[:,0], sigma_predicted[:,1])\n",
        "plt.scatter(mean_x, mean_y, color='red', s=300)\n",
        "plt.xlabel('x')\n",
        "plt.ylabel('y')\n",
        "plt.show()"
      ]
    },
    {
      "cell_type": "markdown",
      "metadata": {
        "id": "Bd-mzDLflk9P"
      },
      "source": [
        "# Раcчет парметров выходных данных(предсказанных): среднего и ковариации."
      ]
    },
    {
      "cell_type": "code",
      "source": [
        "#коэффициенты надо посчитать\n",
        "a_list = []\n",
        "a_list.append(ka/(N+ka))\n",
        "a_list.append(0.5 * 1/(N+ka))\n",
        "#инициализируем переменные для нового распределения\n",
        "x_new = np.zeros((2, 1))\n",
        "P_new = np.zeros((2, 2))\n",
        "#среднее нового распределения\n",
        "for i in range(2*N+1):\n",
        "  if i == 0:\n",
        "    x_new += a_list[0]*sigma_predicted[i]\n",
        "    continue\n",
        "  x_new += a_list[1]*sigma_predicted[i]\n",
        "\n",
        "#ковариация нового распределения\n",
        "for i in range(2*N+1):\n",
        "  if i == 0:\n",
        "    P_new += a_list[0]*(sigma_predicted[i] - x_new)@((sigma_predicted[i] - x_new).T)\n",
        "    continue\n",
        "  P_new += a_list[1]*(sigma_predicted[i] - x_new)@((sigma_predicted[i] - x_new).T)\n",
        "P_new += Q_0\n",
        "\n",
        "np.set_printoptions(precision=6, suppress=True)\n",
        "print(\"The new mean:\\n\", x_new)\n",
        "print(\"The new covariance:\\n\", P_new)"
      ],
      "metadata": {
        "colab": {
          "base_uri": "https://localhost:8080/"
        },
        "id": "C8he_9DhUzuc",
        "outputId": "ab0dbcf7-37cf-4c97-dd40-c0c10494bd08"
      },
      "execution_count": null,
      "outputs": [
        {
          "output_type": "stream",
          "name": "stdout",
          "text": [
            "The new mean:\n",
            " [[2.5]\n",
            " [4. ]]\n",
            "The new covariance:\n",
            " [[0.36 0.5 ]\n",
            " [0.5  1.1 ]]\n"
          ]
        }
      ]
    },
    {
      "cell_type": "markdown",
      "metadata": {
        "id": "luiuSJR6lk9Q"
      },
      "source": [
        "### Теперь, зная наше предсказание, когда мы сделаем измерение, мы сможем сделать поправку\n",
        "аналогичная процедура, только на этот раз с нелинейной моделью измерения\n",
        "$$\n",
        "\\hat{\\mathbf{y}}_{k}^{(i)}=\\mathbf{h}_{k}\\left(\\check{\\mathbf{x}}_{k}^{(i)}, \\mathbf{0}\\right) \\quad i=0 \\ldots 2 N\n",
        "$$"
      ]
    },
    {
      "cell_type": "code",
      "source": [
        "#разложение уже нашего P_new\n",
        "hol = cholesky(P_new)\n",
        "print(hol)\n",
        "\n",
        "# аналогично находим сигма точки\n",
        "cor_sigma_list = []\n",
        "cor_sigma_list.append(x_new[0,0])\n",
        "for i in range(0,N):\n",
        "  singma = x_new + np.array(np.sqrt(N + ka) * hol[i,:]).reshape(2,1)\n",
        "  cor_sigma_list.append(singma[0,0])\n",
        "for i in range(0, N):\n",
        "    singma = x_new - np.array(np.sqrt(N + ka) * hol[i,:]).reshape(2,1)\n",
        "    cor_sigma_list.append(singma[0,0])\n",
        "print(cor_sigma_list)"
      ],
      "metadata": {
        "colab": {
          "base_uri": "https://localhost:8080/"
        },
        "id": "CEJJ8rQ7VTSl",
        "outputId": "bbec63c9-cbb0-4d45-f13b-e29e78b16459"
      },
      "execution_count": null,
      "outputs": [
        {
          "output_type": "stream",
          "name": "stdout",
          "text": [
            "[[0.6      0.      ]\n",
            " [0.833333 0.636832]]\n",
            "[np.float64(2.5), np.float64(3.539230484541326), np.float64(3.943375672974064), np.float64(1.460769515458674), np.float64(1.056624327025936)]\n"
          ]
        }
      ]
    },
    {
      "cell_type": "code",
      "source": [
        "# аналогично прогоняем через модель\n",
        "sigma_mes_list = []\n",
        "\n",
        "for i, sigma in enumerate(cor_sigma_list):\n",
        "    ### START CODE HERE ###\n",
        "  news_sigma = measure_iterate(sigma,0,20,40)\n",
        "  sigma_mes_list.append(news_sigma)\n",
        "\n",
        "    ### END CODE HERE ###\n",
        "\n",
        "print(sigma_mes_list)"
      ],
      "metadata": {
        "colab": {
          "base_uri": "https://localhost:8080/"
        },
        "id": "hb8O4L4PVw9i",
        "outputId": "b99a0e6d-4b0e-41bd-90aa-d2d4a9bb2fc8"
      },
      "execution_count": null,
      "outputs": [
        {
          "output_type": "stream",
          "name": "stdout",
          "text": [
            "[np.float64(0.4899573262537283), np.float64(0.5017175820877777), np.float64(0.5064315663996093), np.float64(0.4786937816119785), np.float64(0.474441544612606)]\n"
          ]
        }
      ]
    },
    {
      "cell_type": "markdown",
      "metadata": {
        "id": "TBrr_6Nflk9R"
      },
      "source": [
        "Теперь считаем среднюю и ковариацию"
      ]
    },
    {
      "cell_type": "code",
      "source": [
        "#среднее нового распределения\n",
        "y_new = np.array([0.0])\n",
        "P_y_new = np.array([0.0])\n",
        "for i in range(2*N+1):\n",
        "  if i == 0:\n",
        "    y_new += a_list[0]*sigma_mes_list[i]\n",
        "    continue\n",
        "  y_new += a_list[1]*sigma_mes_list[i]\n",
        "\n",
        "#ковариация нового распределения\n",
        "for i in range(2*N+1):\n",
        "  if i == 0:\n",
        "    P_y_new += a_list[0]*(sigma_mes_list[i] - y_new)@((sigma_mes_list[i] - y_new).T)\n",
        "    continue\n",
        "  P_y_new += a_list[1]*(sigma_mes_list[i] - y_new)@((sigma_mes_list[i] - y_new).T)\n",
        "P_y_new += R_0\n",
        "#..\n",
        "print(\"The new mean = \", y_new)\n",
        "print(\"The new covariance = \", P_y_new)"
      ],
      "metadata": {
        "colab": {
          "base_uri": "https://localhost:8080/"
        },
        "id": "DE040mp-WZqK",
        "outputId": "8c136fae-699f-4666-d81e-3200d6ad63f6"
      },
      "execution_count": null,
      "outputs": [
        {
          "output_type": "stream",
          "name": "stdout",
          "text": [
            "The new mean =  [0.4902]\n",
            "The new covariance =  [0.010129]\n"
          ]
        }
      ]
    },
    {
      "cell_type": "markdown",
      "metadata": {
        "id": "pOkhrWQNlk9W"
      },
      "source": [
        "Считаем  кросс ковариацию, усилитель калмана и получаем финальное значение оценки\n"
      ]
    },
    {
      "cell_type": "code",
      "source": [
        "P_xy = np.array([[0.0],[0.0]])\n",
        "for i in range(2*N+1):\n",
        "  if i ==0:\n",
        "    P_xy = a_list[0]*(sigma_predicted[i] - x_new)@((sigma_mes_list[i] - y_new).T)\n",
        "    continue\n",
        "  P_xy += a_list[1]*(sigma_predicted[i] - x_new)@((sigma_mes_list[i] - y_new).T)\n",
        "\n",
        "P_xy = P_xy.reshape(2,1)\n",
        "print(P_xy)"
      ],
      "metadata": {
        "colab": {
          "base_uri": "https://localhost:8080/"
        },
        "id": "YqxGMMQ3VmRb",
        "outputId": "3097e6d5-a351-4fce-f436-073060c267b8"
      },
      "execution_count": null,
      "outputs": [
        {
          "output_type": "stream",
          "name": "stdout",
          "text": [
            "[[0.005282]\n",
            " [0.009235]]\n"
          ]
        }
      ]
    },
    {
      "cell_type": "code",
      "execution_count": null,
      "metadata": {
        "id": "Ii07vsRFlk9c",
        "outputId": "c7f71496-1372-4485-f1a1-325bab1f2b01",
        "colab": {
          "base_uri": "https://localhost:8080/"
        }
      },
      "outputs": [
        {
          "output_type": "stream",
          "name": "stdout",
          "text": [
            "[[0.521448]\n",
            " [0.911667]]\n"
          ]
        }
      ],
      "source": [
        "#усилитель\n",
        "K = P_xy/P_y_new\n",
        "print(K)"
      ]
    },
    {
      "cell_type": "markdown",
      "source": [
        "### Полученные результаты после применения UKF"
      ],
      "metadata": {
        "id": "_mfUjU5sLIoJ"
      }
    },
    {
      "cell_type": "code",
      "execution_count": null,
      "metadata": {
        "id": "rnEyHL4Klk9f",
        "outputId": "adc4f7e2-98be-40e9-df8a-c437e6a360cf",
        "colab": {
          "base_uri": "https://localhost:8080/"
        }
      },
      "outputs": [
        {
          "output_type": "stream",
          "name": "stdout",
          "text": [
            "[[2.517416]\n",
            " [4.030449]]\n"
          ]
        }
      ],
      "source": [
        "# финальная оценка после корректировки\n",
        "x_1 = x_new + K * (y_1 - y_new)\n",
        "print(x_1)"
      ]
    },
    {
      "cell_type": "code",
      "execution_count": null,
      "metadata": {
        "id": "NMKCxRzSlk9h"
      },
      "outputs": [],
      "source": []
    }
  ],
  "metadata": {
    "colab": {
      "provenance": []
    },
    "kernelspec": {
      "display_name": "Python 3",
      "name": "python3"
    },
    "language_info": {
      "codemirror_mode": {
        "name": "ipython",
        "version": 3
      },
      "file_extension": ".py",
      "mimetype": "text/x-python",
      "name": "python",
      "nbconvert_exporter": "python",
      "pygments_lexer": "ipython3",
      "version": "3.9.13"
    }
  },
  "nbformat": 4,
  "nbformat_minor": 0
}